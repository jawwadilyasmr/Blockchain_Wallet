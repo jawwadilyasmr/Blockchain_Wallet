{
 "cells": [
  {
   "cell_type": "code",
   "execution_count": 36,
   "metadata": {},
   "outputs": [],
   "source": [
    "import os\n",
    "import subprocess\n",
    "import json\n",
    "from web3 import Web3\n",
    "from dotenv import load_dotenv\n",
    "from eth_account import Account\n",
    "from bit import PrivateKeyTestnet\n",
    "from bit.network import NetworkAPI\n",
    "from constants import *\n",
    "from web3.middleware import geth_poa_middleware\n",
    "from web3.gas_strategies.time_based import medium_gas_price_strategy\n"
   ]
  },
  {
   "cell_type": "code",
   "execution_count": 41,
   "metadata": {},
   "outputs": [],
   "source": []
  },
  {
   "cell_type": "code",
   "execution_count": 3,
   "metadata": {},
   "outputs": [],
   "source": [
    "load_dotenv()\n",
    "private_key = os.getenv(\"PRIVATE_KEY\")\n",
    "mnemonic = os.getenv(\"MNEMONIC\")\n",
    "ETH_key = os.getenv(\"ETH_KEY\")\n",
    "BTC_key = os.getenv(\"BTC_KEY\")\n",
    "BTC = 'btc'\n",
    "ETH = 'eth'\n",
    "BTCTEST = 'btc-test'\n",
    "#account_one = Account.from_key(os.getenv(\"ETH_KEY\"))"
   ]
  },
  {
   "cell_type": "code",
   "execution_count": 122,
   "metadata": {},
   "outputs": [
    {
     "data": {
      "text/plain": [
       "0"
      ]
     },
     "execution_count": 122,
     "metadata": {},
     "output_type": "execute_result"
    }
   ],
   "source": [
    "w3 = Web3(Web3.HTTPProvider(\"http://127.0.0.1:8545\"))\n",
    "w3.middleware_onion.inject(geth_poa_middleware, layer=0)\n",
    "w3.eth.setGasPriceStrategy(medium_gas_price_strategy)\n",
    "address = Web3.toChecksumAddress('0x598607fda464947507b187639389a1b47df602c0')\n",
    "address2 = Web3.toChecksumAddress('0x8d597BC91A4D596663FB393Ec65fD61C1B8637a0')\n",
    "w3.eth.getBalance(address2)"
   ]
  },
  {
   "cell_type": "code",
   "execution_count": 5,
   "metadata": {},
   "outputs": [],
   "source": [
    "def derive_wallets(coin,numderive, mnemonic):\n",
    "    \n",
    "    command = f'./derive -g --mnemonic=\"{mnemonic}\" --format=json --coin=\"{coin}\" --numderive=\"{numderive}\"'\n",
    "\n",
    "    p = subprocess.Popen(command, stdout=subprocess.PIPE, shell=True)\n",
    "    output, err = p.communicate()\n",
    "    p_status = p.wait()\n",
    "\n",
    "    keys = json.loads(output)\n",
    "    return keys"
   ]
  },
  {
   "cell_type": "code",
   "execution_count": 72,
   "metadata": {},
   "outputs": [
    {
     "name": "stdout",
     "output_type": "stream",
     "text": [
      "{\n",
      " \"eth\": [\n",
      "  {\n",
      "   \"path\": \"m/44'/60'/0'/0/0\",\n",
      "   \"address\": \"0x8d597BC91A4D596663FB393Ec65fD61C1B8637a0\",\n",
      "   \"xprv\": \"xprvA3ti9wQseP9HMVFd9WdMFBKMkucuQAKL5c9LHxfbPKi16v2oHwp3jQLTXcz96FSQaMwxySi44LYxpEBmAhyzBrECf4xLFvHRXVr51LLYAXA\",\n",
      "   \"xpub\": \"xpub6Gt4ZSwmUkhaZyL6FYAMcKG6JwTPod3BSq4w6M5CwfEyyiMwqV8JHCewNt85UF5P1VkaWR57ZM8VU3RMRCEXmowuSBsmZkgJ2Kopjd2QhG6\",\n",
      "   \"privkey\": \"0x29d51ba291b1eaf093aadfa6a005e202db1f0204cf1878085d08810905da87d8\",\n",
      "   \"pubkey\": \"0237d85fe57a81d5c8645e83f8ccb303ea9a0e35122fd21355c251f026a03fc5e2\",\n",
      "   \"pubkeyhash\": \"303a6b933ab7c639181ed0f7b0f8c84e23657c55\",\n",
      "   \"index\": 0\n",
      "  },\n",
      "  {\n",
      "   \"path\": \"m/44'/60'/0'/0/1\",\n",
      "   \"address\": \"0x766D529670654A9784f66F19dd9f56cd265Ef9cf\",\n",
      "   \"xprv\": \"xprvA3ti9wQseP9HNHF6oE814gqRW5zJvRShNX8648YyF2Frwje8xWWDw6njEfZkSwggnEk3fn1sursgqGcUsWN3vUAgXB1JMaV8NjvZvaRGvti\",\n",
      "   \"xpub\": \"xpub6Gt4ZSwmUkhaamKZuFf1RpnA47poKtAYjk3grWxaoMnqpXyHW3pUUu7D5xSdqgVSjjwGzfkMevs2396SVLSxv2GYbdf23GaBek4vTzBtCcW\",\n",
      "   \"privkey\": \"0x934264cb5a46db2b8c5efeeb4af3bade865f4e59d23bb1ee4d8c6ad0dda2ad0e\",\n",
      "   \"pubkey\": \"03867cef110cf6a24856bc331dbf7d770bcda80b208d042bf0c0cf7a83a8edd914\",\n",
      "   \"pubkeyhash\": \"881b59f0f317df07f881e1df2ad6ed7adcf60724\",\n",
      "   \"index\": 1\n",
      "  },\n",
      "  {\n",
      "   \"path\": \"m/44'/60'/0'/0/2\",\n",
      "   \"address\": \"0xD4849130ea3618bfA7919092bacfF1F9c9f963eF\",\n",
      "   \"xprv\": \"xprvA3ti9wQseP9HRpkdY9KNF9SF22vy8cFZPpRkRMLgWZZWg6idKTXuMna9YcZMtArHAjBitQKBbr15vbecZg3Qymaqdk3EcQzXNdd9NibGqLz\",\n",
      "   \"xpub\": \"xpub6Gt4ZSwmUkhaeJq6eArNcHNya4mTY4yQm3MMDjkJ4u6VYu3mrzr9uatdPrjqmrpcpFT8YvJZG6f66tnBmXzUeiHttfihN1cWq63Ws3Ltvy3\",\n",
      "   \"privkey\": \"0xff6e4ee03dde8da6839038b67231ec3e8c98c4cefa6bdf385a38503e2aedcdc6\",\n",
      "   \"pubkey\": \"028f85bf79dee6a447f65e7daa85a23a10723e58a2bb56c15bef8d40607f4a1e2f\",\n",
      "   \"pubkeyhash\": \"2432c0600605338d89254a2860ce180525a69246\",\n",
      "   \"index\": 2\n",
      "  }\n",
      " ],\n",
      " \"btc-test\": [\n",
      "  {\n",
      "   \"path\": \"m/44'/1'/0'/0/0\",\n",
      "   \"address\": \"moB38C4KHdsfgeeTinjeyduApqKJLjUoA5\",\n",
      "   \"xprv\": \"tprv8k8JZUwnr6qdJ64dS39pN29dTim9U9tX5iuKe9Q4VZwbz9Y8XxQUtsVeH4VBxgzaByxwGqsFsYx6kzSkFWrg6AzCzrV8H8u7jLNjXqHno8X\",\n",
      "   \"xpub\": \"tpubDGpLhtz2zUXJBZ6RKgpQmRok2kH5dV5Rf2W6vfSMuqjzpdnuAME55N7WTBjmAuwudhZJMZEWMiaZHhnmZfPqqBfvNPtjoHZe28LCkaoEBk4\",\n",
      "   \"privkey\": \"cPE71RTGrQKNgn1gWm4GuMCNhrZfRVDhyr7eAGTiG5Fw6xghLEes\",\n",
      "   \"pubkey\": \"025937469e78af3fdd1a1d064488c819da92cefa2f4fb24c790dc1480be36880ff\",\n",
      "   \"pubkeyhash\": \"53fcb8086bc5d3b68f0e3e3f67b8580394aa0fee\",\n",
      "   \"index\": 0\n",
      "  },\n",
      "  {\n",
      "   \"path\": \"m/44'/1'/0'/0/1\",\n",
      "   \"address\": \"n1u1MQ11bBZvj6JzjzJKxiT5PgCsfc3ZiQ\",\n",
      "   \"xprv\": \"tprv8k8JZUwnr6qdJw8hEni4VeggRAHihqSUr3fnJqo2xjrRWC16knabD4ov7NrSTSupmBZN4AJqZyTs3iuKEPfaM5qknLm3vejqHtwGzoUQXyP\",\n",
      "   \"xpub\": \"tpubDGpLhtz2zUXJCQAV8SNeu4LnzBoesAdPRMGZbMqLP1epLgFsPBQBPZRnHUrEWjcrCXdw3rD7qeQ2UBdh7zKkWXJ1bvAC6hufyXvQ9DWJ9YF\",\n",
      "   \"privkey\": \"cSYaMQwo4gYckMFt45cpamdecPexdeFH6L4yCmRwr1Ss6tf3GXMr\",\n",
      "   \"pubkey\": \"0216fa5e42e2d8a30e6ff15a282abaf90f745dac1c013635c8fdd23890aafe2b3c\",\n",
      "   \"pubkeyhash\": \"df8e381f4c3ca949c0b5def8fbdaf64074448126\",\n",
      "   \"index\": 1\n",
      "  },\n",
      "  {\n",
      "   \"path\": \"m/44'/1'/0'/0/2\",\n",
      "   \"address\": \"mipAwsA623tpayWBkQ9BzEWqZqrDVqtNiL\",\n",
      "   \"xprv\": \"tprv8k8JZUwnr6qdMp5rZ1h2cTfUqVLubLQi68wahWH9z3y1CAZuvs7CoJ7rFRQVySgA1uWnKgqN61eEZDjwzK1pRxM5u8LNcQpmf9zqV9tAu4B\",\n",
      "   \"xpub\": \"tpubDGpLhtz2zUXJFH7eSfMd1sKbQWrqkfbcfSYMz2KTQKmQ2epgZFvnynjiRYKfTCc9Gq2ND7wHZkVdZse4sKYKPVwN6iCLWPw69dm5HiPqES8\",\n",
      "   \"privkey\": \"cQb9xEFySEGjvNv1N8bM1Z4nsVY5LtmrF8N1zJToQTkvZQS4oQ4y\",\n",
      "   \"pubkey\": \"0255cfcd52f9529ef643b6cbc9027d6c005e4cee692c9db6ece3299d57f08e6f89\",\n",
      "   \"pubkeyhash\": \"242a028f136a6a0a7cc466af7cdd79ca4172f065\",\n",
      "   \"index\": 2\n",
      "  }\n",
      " ],\n",
      " \"btc\": [\n",
      "  {\n",
      "   \"path\": \"m/44'/0'/0'/0/0\",\n",
      "   \"address\": \"16bgmjb1tZ4XWjfxroWrv96rQHhwNMobd9\",\n",
      "   \"xprv\": \"xprvA33a7wMr4uYqjpqsLh1B6vaUiRdMG1vjz8AConXN5Nh6ityKbd9fpV6KADQhLbtEW4AjcWbzoXo9FMMX82dqRijQj2Tc9pUA3xJSsc3Yz8q\",\n",
      "   \"xpub\": \"xpub6G2vXStjuH78xJvLSiYBU4XDGTTqfUebMM5ocAvydiE5bhJU9ATvNHQo1WzYK1Mai8h8PAxEevVnTwb2HAWQGKTG8mhdTovrqt75LBUqp3z\",\n",
      "   \"privkey\": \"KwGLWBXZr53HpWkQoDPaU993gVCyULBCYsxhJTGYygevNfMmMeAH\",\n",
      "   \"pubkey\": \"0351949a6823056796307b393c72bdb1d7c43727802c87d62d86683ed4c66e8d6a\",\n",
      "   \"pubkeyhash\": \"3d67f894465b207f6edff31f13682d05a3d9690f\",\n",
      "   \"index\": 0\n",
      "  },\n",
      "  {\n",
      "   \"path\": \"m/44'/0'/0'/0/1\",\n",
      "   \"address\": \"15LeibyXWcmUeonn9fVjbHuRySzAcqidQT\",\n",
      "   \"xprv\": \"xprvA33a7wMr4uYqoFAgReE8xWBbRiiZi9o1SFPQSg9qfZN8XL1GTHXSTbbXnCSk7tUQkyZwLgW2S1TWWsrAjFppSwVFWRU5ToR74MW2XgfQRg9\",\n",
      "   \"xpub\": \"xpub6G2vXStjuH791jF9Xfm9Ke8KykZ47cWroUK1F4ZTDtu7Q8LQzpqh1Pv1dUYPw7ujvztUPxtdQxeAm3ytabQ2P124SvMzZMJjbTVYFyvLbW1\",\n",
      "   \"privkey\": \"KzJt1Ui46LviuAVa8LPH5zKZNTyRnCm9fNc9NC7iUmQHq9gmM85D\",\n",
      "   \"pubkey\": \"02e8b0cd9ca4c259ece485770760339d21b56dd1de17a00972ae13a0e90c19d276\",\n",
      "   \"pubkeyhash\": \"2f97e426fdf543c0ced22293cba42abe836df006\",\n",
      "   \"index\": 1\n",
      "  },\n",
      "  {\n",
      "   \"path\": \"m/44'/0'/0'/0/2\",\n",
      "   \"address\": \"14UXN67ViEXfq1giKFsyBcms9F9iBFfHWK\",\n",
      "   \"xprv\": \"xprvA33a7wMr4uYqqX8TQ6YJrxBciU5KrapFBkr3ZYTbHiksUWcdEhuXEdViXwigGPZE2bUjNS23cW6NuN7ASPwWchwtePTAgn92QAn7khzNk1U\",\n",
      "   \"xpub\": \"xpub6G2vXStjuH7941CvW85KE68MGVupG3Y6YymeMvsCr4HrMJwmnFDmnRpCPCm8oUa6Mebx45SEHivZhGv8iQPJjsRJcHzczZ181ianoVmR7PS\",\n",
      "   \"privkey\": \"KwQ75b6JhN9yeWMqB7mwguyGbNi1KTZwFmnuYwtm6Tcj7rFhN1JX\",\n",
      "   \"pubkey\": \"0206eac5728eac0e461e5fdc36c86bbd713fe02d770a33fc0bfc43ea75a0ed2430\",\n",
      "   \"pubkeyhash\": \"261cf45e801a0a5eed8fe8fe7597812b48ded6f1\",\n",
      "   \"index\": 2\n",
      "  }\n",
      " ]\n",
      "}\n"
     ]
    }
   ],
   "source": [
    "#Setting dictionary of coins to be used in the wallet\n",
    "coins = {\"eth\":derive_wallets(\"eth\",3,mnemonic),\n",
    "         \"btc-test\":derive_wallets(\"btc-test\",3,mnemonic), \n",
    "         \"btc\":derive_wallets(\"btc\",3,mnemonic)}\n",
    "print(json.dumps(coins, indent=1))"
   ]
  },
  {
   "cell_type": "code",
   "execution_count": 113,
   "metadata": {},
   "outputs": [],
   "source": [
    "# get the private key\n",
    "eth_PrivateKey = coins[ETH][0]['privkey']\n",
    "btc_PrivateKey = coins[BTC][0]['privkey']\n",
    "btc_test_PrivateKey = coins[BTCTEST][0]['privkey']"
   ]
  },
  {
   "cell_type": "code",
   "execution_count": null,
   "metadata": {},
   "outputs": [],
   "source": []
  },
  {
   "cell_type": "code",
   "execution_count": 114,
   "metadata": {},
   "outputs": [
    {
     "data": {
      "text/plain": [
       "'0x29d51ba291b1eaf093aadfa6a005e202db1f0204cf1878085d08810905da87d8'"
      ]
     },
     "execution_count": 114,
     "metadata": {},
     "output_type": "execute_result"
    }
   ],
   "source": [
    "eth_PrivateKey"
   ]
  },
  {
   "cell_type": "code",
   "execution_count": 115,
   "metadata": {},
   "outputs": [],
   "source": [
    "def priv_key_to_account(coin,priv_key):\n",
    "    if coin==ETH:\n",
    "        return Account.from_key(priv_key)   \n",
    "    elif coin==BTCTEST:\n",
    "        return PrivateKeyTestnet(priv_key) \n",
    "   "
   ]
  },
  {
   "cell_type": "code",
   "execution_count": 116,
   "metadata": {},
   "outputs": [
    {
     "data": {
      "text/plain": [
       "<eth_account.signers.local.LocalAccount at 0x7f9b54187450>"
      ]
     },
     "execution_count": 116,
     "metadata": {},
     "output_type": "execute_result"
    }
   ],
   "source": [
    "priv_key_to_account(ETH,eth_PrivateKey)"
   ]
  },
  {
   "cell_type": "code",
   "execution_count": 58,
   "metadata": {},
   "outputs": [
    {
     "data": {
      "text/plain": [
       "<PrivateKeyTestnet: moB38C4KHdsfgeeTinjeyduApqKJLjUoA5>"
      ]
     },
     "execution_count": 58,
     "metadata": {},
     "output_type": "execute_result"
    }
   ],
   "source": [
    "priv_key_to_account(BTCTEST, btc_test_PrivateKey) "
   ]
  },
  {
   "cell_type": "code",
   "execution_count": 59,
   "metadata": {},
   "outputs": [],
   "source": [
    "def create_tx(coin,account, recipient, amount):\n",
    "    if coin == ETH: \n",
    "        gasEstimate = w3.eth.estimateGas(\n",
    "            {\"from\":eth_acc.address, \"to\":recipient, \"value\": amount}\n",
    "        )\n",
    "        return { \n",
    "            \"from\": eth_acc.address,\n",
    "            \"to\": recipient,\n",
    "            \"value\": amount,\n",
    "            \"gasPrice\": w3.eth.gasPrice,\n",
    "            \"gas\": gasEstimate,\n",
    "            \"nonce\": w3.eth.getTransactionCount(eth_acc.address),\n",
    "            \"chainId\":11039\n",
    "        }\n",
    "    \n",
    "    elif coin == BTCTEST:\n",
    "        \n",
    "        return PrivateKeyTestnet.prepare_transaction(account.address, [(recipient, amount, BTC)])"
   ]
  },
  {
   "cell_type": "code",
   "execution_count": 120,
   "metadata": {},
   "outputs": [
    {
     "data": {
      "text/plain": [
       "<eth_account.signers.local.LocalAccount at 0x7f9b53f7e450>"
      ]
     },
     "execution_count": 120,
     "metadata": {},
     "output_type": "execute_result"
    }
   ],
   "source": [
    "eth_acc = priv_key_to_account(ETH, derive_wallets(ETH,5,mnemonic)[0]['privkey'])\n",
    "eth_acc"
   ]
  },
  {
   "cell_type": "code",
   "execution_count": 85,
   "metadata": {},
   "outputs": [],
   "source": [
    "# create a function to send txn\n",
    "def send_txn(coin,account,recipient, amount):\n",
    "    txn = create_tx(coin, account, recipient, amount)\n",
    "    if coin == ETH:\n",
    "        signed_txn = eth_acc.sign_transaction(txn)\n",
    "        result = w3.eth.sendRawTransaction(signed_txn.rawTransaction)\n",
    "        print(result.hex())\n",
    "        return result.hex()\n",
    "    elif coin == BTCTEST:\n",
    "        tx_btctest = create_tx(coin, account, recipient, amount)\n",
    "        signed_txn = account.sign_transaction(txn)\n",
    "        print(signed_txn)\n",
    "        \n",
    "        return NetworkAPI.broadcast_tx_testnet(signed_txn)"
   ]
  },
  {
   "cell_type": "code",
   "execution_count": 86,
   "metadata": {},
   "outputs": [],
   "source": [
    "eth_PrivateKey = coins[ETH][0]['privkey']\n",
    "btc_PrivateKey = coins[BTC][0]['privkey']\n",
    "btc_test_PrivateKey = coins[BTCTEST][0]['privkey']"
   ]
  },
  {
   "cell_type": "code",
   "execution_count": 108,
   "metadata": {},
   "outputs": [
    {
     "data": {
      "text/plain": [
       "'0x29d51ba291b1eaf093aadfa6a005e202db1f0204cf1878085d08810905da87d8'"
      ]
     },
     "execution_count": 108,
     "metadata": {},
     "output_type": "execute_result"
    }
   ],
   "source": [
    "eth_PrivateKey"
   ]
  },
  {
   "cell_type": "code",
   "execution_count": 88,
   "metadata": {},
   "outputs": [],
   "source": [
    "btc_test_acc = priv_key_to_account(BTCTEST,btc_test_PrivateKey)"
   ]
  },
  {
   "cell_type": "code",
   "execution_count": 89,
   "metadata": {},
   "outputs": [
    {
     "data": {
      "text/plain": [
       "<PrivateKeyTestnet: moB38C4KHdsfgeeTinjeyduApqKJLjUoA5>"
      ]
     },
     "execution_count": 89,
     "metadata": {},
     "output_type": "execute_result"
    }
   ],
   "source": [
    "btc_test_acc"
   ]
  },
  {
   "cell_type": "code",
   "execution_count": 97,
   "metadata": {},
   "outputs": [
    {
     "data": {
      "text/plain": [
       "'{\"unspents\":[{\"amount\":1271330,\"confirmations\":0,\"script\":\"76a91453fcb8086bc5d3b68f0e3e3f67b8580394aa0fee88ac\",\"txid\":\"7277c2445dfc23be9d528e77138daf3dd931dc228b333841615f2574f418caa0\",\"txindex\":1,\"type\":\"p2pkh\",\"vsize\":148,\"segwit\":false,\"sequence\":4294967295}],\"outputs\":[[\"n1u1MQ11bBZvj6JzjzJKxiT5PgCsfc3ZiQ\",1000000],[\"moB38C4KHdsfgeeTinjeyduApqKJLjUoA5\",248278]]}'"
      ]
     },
     "execution_count": 97,
     "metadata": {},
     "output_type": "execute_result"
    }
   ],
   "source": [
    "# create BTC transaction\n",
    "#recipientAccount = n1u1MQ11bBZvj6JzjzJKxiT5PgCsfc3ZiQ\n",
    "\n",
    "create_tx(BTCTEST,btc_test_acc,\"n1u1MQ11bBZvj6JzjzJKxiT5PgCsfc3ZiQ\", 0.01)\n",
    "#key.create_tx(outputs,unspents=key.get_unspents())"
   ]
  },
  {
   "cell_type": "code",
   "execution_count": 98,
   "metadata": {},
   "outputs": [
    {
     "name": "stdout",
     "output_type": "stream",
     "text": [
      "0100000001a0ca18f474255f614138338b22dc31d93daf8d13778e529dbe23fc5d44c27772010000006a4730440220786689a53702b43f7ac6ae7b92475936a386de0f6e3bace445577becb9e4c8b902205a7d674ca50b5249d621a9a4fe006aa89b9fbf3b183390770009f558adf4b52a0121025937469e78af3fdd1a1d064488c819da92cefa2f4fb24c790dc1480be36880ffffffffff0240420f00000000001976a914df8e381f4c3ca949c0b5def8fbdaf6407444812688acd6c90300000000001976a91453fcb8086bc5d3b68f0e3e3f67b8580394aa0fee88ac00000000\n"
     ]
    }
   ],
   "source": [
    "# Send BTC transaction\n",
    "send_txn(BTCTEST,btc_test_acc,\"n1u1MQ11bBZvj6JzjzJKxiT5PgCsfc3ZiQ\", 0.01)"
   ]
  },
  {
   "cell_type": "code",
   "execution_count": 117,
   "metadata": {},
   "outputs": [
    {
     "data": {
      "text/plain": [
       "{'from': '0x8d597BC91A4D596663FB393Ec65fD61C1B8637a0',\n",
       " 'to': '0x8d597BC91A4D596663FB393Ec65fD61C1B8637a0',\n",
       " 'value': 1000,\n",
       " 'gasPrice': 1000000000,\n",
       " 'gas': 21000,\n",
       " 'nonce': 0}"
      ]
     },
     "execution_count": 117,
     "metadata": {},
     "output_type": "execute_result"
    }
   ],
   "source": [
    "create_tx(ETH,eth_acc,\"0x8d597BC91A4D596663FB393Ec65fD61C1B8637a0\", 1000)"
   ]
  },
  {
   "cell_type": "code",
   "execution_count": null,
   "metadata": {},
   "outputs": [],
   "source": [
    "send_txn(ETH, eth_acc,\"0x8d597BC91A4D596663FB393Ec65fD61C1B8637a0\", 1000)"
   ]
  },
  {
   "cell_type": "code",
   "execution_count": null,
   "metadata": {},
   "outputs": [],
   "source": []
  }
 ],
 "metadata": {
  "kernelspec": {
   "display_name": "Python 3",
   "language": "python",
   "name": "python3"
  },
  "language_info": {
   "codemirror_mode": {
    "name": "ipython",
    "version": 3
   },
   "file_extension": ".py",
   "mimetype": "text/x-python",
   "name": "python",
   "nbconvert_exporter": "python",
   "pygments_lexer": "ipython3",
   "version": "3.7.9"
  }
 },
 "nbformat": 4,
 "nbformat_minor": 4
}
